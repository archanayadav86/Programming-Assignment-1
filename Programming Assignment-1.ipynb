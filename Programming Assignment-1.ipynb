{
 "cells": [
  {
   "cell_type": "markdown",
   "metadata": {},
   "source": [
    "Q1.\tWrite a Python program to print \"Hello Python\"?"
   ]
  },
  {
   "cell_type": "code",
   "execution_count": 2,
   "metadata": {},
   "outputs": [
    {
     "name": "stdout",
     "output_type": "stream",
     "text": [
      "Hello Python\n"
     ]
    }
   ],
   "source": [
    "print('Hello Python')"
   ]
  },
  {
   "cell_type": "markdown",
   "metadata": {},
   "source": [
    "Q2.\tWrite a Python program to do arithmetical operations addition and division.?"
   ]
  },
  {
   "cell_type": "code",
   "execution_count": 3,
   "metadata": {},
   "outputs": [
    {
     "name": "stdout",
     "output_type": "stream",
     "text": [
      "Addition is:  16\n",
      "Division is:  1.6666666666666667\n"
     ]
    }
   ],
   "source": [
    "a=10\n",
    "b=6\n",
    "c=a + b\n",
    "d= a/b\n",
    "print(\"Addition is: \", c)\n",
    "print(\"Division is: \", d)"
   ]
  },
  {
   "cell_type": "markdown",
   "metadata": {},
   "source": [
    "Q3.\tWrite a Python program to find the area of a triangle?"
   ]
  },
  {
   "cell_type": "code",
   "execution_count": 5,
   "metadata": {},
   "outputs": [
    {
     "name": "stdout",
     "output_type": "stream",
     "text": [
      "Area of triangle: 97.5\n"
     ]
    }
   ],
   "source": [
    "base = 13\n",
    "height = 15\n",
    "area = 1/2*((base)*(height))\n",
    "print(\"Area of triangle:\", area)"
   ]
  },
  {
   "cell_type": "markdown",
   "metadata": {},
   "source": [
    "Q4.\tWrite a Python program to swap two variables?"
   ]
  },
  {
   "cell_type": "code",
   "execution_count": 40,
   "metadata": {},
   "outputs": [
    {
     "name": "stdout",
     "output_type": "stream",
     "text": [
      "Enter value of a 12\n",
      "Enter value of b 23\n",
      "After swapping value of a: 23\n",
      "After swapping value of b: 12\n"
     ]
    }
   ],
   "source": [
    "a=int(input(\"Enter value of a \"))\n",
    "b=int(input(\"Enter value of b \"))\n",
    "x,y=a,b\n",
    "b,a=x,y\n",
    "print(\"After swapping value of a:\",a)\n",
    "print(\"After swapping value of b:\",b)"
   ]
  },
  {
   "cell_type": "markdown",
   "metadata": {},
   "source": [
    "Q5.\tWrite a Python program to generate a random number?"
   ]
  },
  {
   "cell_type": "code",
   "execution_count": 61,
   "metadata": {},
   "outputs": [
    {
     "name": "stdout",
     "output_type": "stream",
     "text": [
      "Random: 0.6102191735653045\n",
      "Random: 0.5755357298869165\n",
      "Random: 0.046083920632919106\n",
      "Random: 0.6112455081354042\n",
      "Random: 0.26458175486017477\n",
      "Random: 0.7170806604230469\n",
      "Random: 0.6444768936565846\n",
      "Random: 0.5087660902445842\n",
      "Random: 0.09047623768530766\n",
      "Random: 0.3538022348071099\n",
      "Random: 0.9752696151643414\n",
      "Random: 0.48412968037344106\n",
      "Random: 0.415560296391821\n",
      "Random: 0.9597888551794113\n",
      "Random: 0.3096338243836211\n",
      "Random: 0.5403611033769079\n",
      "Random: 0.31812448640312285\n",
      "Random: 0.2949038674190808\n",
      "Random: 0.8611928050550061\n",
      "Random: 0.5250299825071829\n"
     ]
    }
   ],
   "source": [
    "from random import random\n",
    "for i in range(20):\n",
    "    v=random()\n",
    "    print(\"Random:\", v)"
   ]
  },
  {
   "cell_type": "code",
   "execution_count": null,
   "metadata": {},
   "outputs": [],
   "source": []
  },
  {
   "cell_type": "code",
   "execution_count": null,
   "metadata": {},
   "outputs": [],
   "source": []
  }
 ],
 "metadata": {
  "kernelspec": {
   "display_name": "Python 3",
   "language": "python",
   "name": "python3"
  },
  "language_info": {
   "codemirror_mode": {
    "name": "ipython",
    "version": 3
   },
   "file_extension": ".py",
   "mimetype": "text/x-python",
   "name": "python",
   "nbconvert_exporter": "python",
   "pygments_lexer": "ipython3",
   "version": "3.7.6"
  }
 },
 "nbformat": 4,
 "nbformat_minor": 4
}
